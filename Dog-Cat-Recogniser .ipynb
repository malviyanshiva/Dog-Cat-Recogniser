{
 "cells": [
  {
   "cell_type": "markdown",
   "metadata": {},
   "source": [
    "#                  Dog cat Recogniser"
   ]
  },
  {
   "cell_type": "markdown",
   "metadata": {},
   "source": [
    "## Importing libraries"
   ]
  },
  {
   "cell_type": "code",
   "execution_count": 20,
   "metadata": {},
   "outputs": [],
   "source": [
    "import tensorflow as tf\n",
    "from keras.preprocessing.image import ImageDataGenerator"
   ]
  },
  {
   "cell_type": "code",
   "execution_count": 21,
   "metadata": {},
   "outputs": [
    {
     "name": "stdout",
     "output_type": "stream",
     "text": [
      "2.7.0\n",
      "[PhysicalDevice(name='/physical_device:GPU:0', device_type='GPU')]\n"
     ]
    }
   ],
   "source": [
    "print(tf.__version__)\n",
    "print(tf.config.list_physical_devices('GPU'))"
   ]
  },
  {
   "cell_type": "markdown",
   "metadata": {},
   "source": [
    "## Data preprocessing"
   ]
  },
  {
   "cell_type": "code",
   "execution_count": 22,
   "metadata": {},
   "outputs": [
    {
     "name": "stdout",
     "output_type": "stream",
     "text": [
      "Found 8000 images belonging to 2 classes.\n"
     ]
    }
   ],
   "source": [
    "#preprocessing training set\n",
    "train_datagen=ImageDataGenerator(rescale=1.0/255,\n",
    "                                shear_range=0.2,\n",
    "                                zoom_range=0.2,\n",
    "                                horizontal_flip=True)\n",
    "training_set=train_datagen.flow_from_directory(\"dataset/training_set\",target_size=(64,64),batch_size=32,class_mode='binary')"
   ]
  },
  {
   "cell_type": "code",
   "execution_count": 23,
   "metadata": {},
   "outputs": [
    {
     "name": "stdout",
     "output_type": "stream",
     "text": [
      "Found 2000 images belonging to 2 classes.\n"
     ]
    }
   ],
   "source": [
    "#preprocessing test set\n",
    "test_datagen=ImageDataGenerator(rescale=1.0/255)\n",
    "test_set=test_datagen.flow_from_directory(\"dataset/test_set\",target_size=(64,64),batch_size=32,class_mode=\"binary\")"
   ]
  },
  {
   "cell_type": "markdown",
   "metadata": {},
   "source": [
    "## Building CNN"
   ]
  },
  {
   "cell_type": "code",
   "execution_count": 39,
   "metadata": {},
   "outputs": [],
   "source": [
    "cnn=tf.keras.models.Sequential()"
   ]
  },
  {
   "cell_type": "code",
   "execution_count": 40,
   "metadata": {},
   "outputs": [],
   "source": [
    "#Convolution layer\n",
    "\n",
    "cnn.add(tf.keras.layers.Conv2D(filters=32,kernel_size=3,activation=\"relu\",input_shape=[64,64,3]))"
   ]
  },
  {
   "cell_type": "code",
   "execution_count": 41,
   "metadata": {},
   "outputs": [],
   "source": [
    "#Pooling layer\n",
    "\n",
    "cnn.add(tf.keras.layers.MaxPool2D(pool_size=2,strides=2))"
   ]
  },
  {
   "cell_type": "code",
   "execution_count": 42,
   "metadata": {},
   "outputs": [],
   "source": [
    "#Again Covolution layer and pooling layer\n",
    "\n",
    "cnn.add(tf.keras.layers.Conv2D(filters=32,kernel_size=3,activation=\"relu\",input_shape=[64,64,3]))\n",
    "cnn.add(tf.keras.layers.MaxPool2D(pool_size=2, strides=2))"
   ]
  },
  {
   "cell_type": "code",
   "execution_count": 43,
   "metadata": {},
   "outputs": [],
   "source": [
    "#Flattening\n",
    "\n",
    "cnn.add(tf.keras.layers.Flatten())"
   ]
  },
  {
   "cell_type": "code",
   "execution_count": 44,
   "metadata": {},
   "outputs": [],
   "source": [
    "#Full connection\n",
    "\n",
    "cnn.add(tf.keras.layers.Dense(units=64,activation=\"relu\"))\n",
    "cnn.add(tf.keras.layers.Dense(units=64,activation=\"relu\"))"
   ]
  },
  {
   "cell_type": "code",
   "execution_count": 45,
   "metadata": {},
   "outputs": [],
   "source": [
    "#Output layer\n",
    "\n",
    "cnn.add(tf.keras.layers.Dense(units=1,activation=\"sigmoid\"))"
   ]
  },
  {
   "cell_type": "markdown",
   "metadata": {},
   "source": [
    "## Training the cnn model"
   ]
  },
  {
   "cell_type": "code",
   "execution_count": 46,
   "metadata": {},
   "outputs": [],
   "source": [
    "cnn.compile(optimizer=\"adam\",loss=\"binary_crossentropy\",metrics=[\"accuracy\"])"
   ]
  },
  {
   "cell_type": "code",
   "execution_count": 47,
   "metadata": {},
   "outputs": [],
   "source": [
    "earlystop = tf.keras.callbacks.EarlyStopping(monitor='val_loss', patience=3,restore_best_weights=True,mode='min')\n",
    "filename='log.csv'\n",
    "history_logger=tf.keras.callbacks.CSVLogger(filename, separator=\",\", append=False)"
   ]
  },
  {
   "cell_type": "code",
   "execution_count": 48,
   "metadata": {},
   "outputs": [
    {
     "name": "stdout",
     "output_type": "stream",
     "text": [
      "Epoch 1/25\n",
      "250/250 [==============================] - 122s 485ms/step - loss: 0.6721 - accuracy: 0.5670 - val_loss: 0.7026 - val_accuracy: 0.5675\n",
      "Epoch 2/25\n",
      "250/250 [==============================] - 21s 83ms/step - loss: 0.5897 - accuracy: 0.6867 - val_loss: 0.5606 - val_accuracy: 0.7080\n",
      "Epoch 3/25\n",
      "250/250 [==============================] - 22s 87ms/step - loss: 0.5540 - accuracy: 0.7191 - val_loss: 0.5243 - val_accuracy: 0.7305\n",
      "Epoch 4/25\n",
      "250/250 [==============================] - 22s 86ms/step - loss: 0.5268 - accuracy: 0.7352 - val_loss: 0.5116 - val_accuracy: 0.7465\n",
      "Epoch 5/25\n",
      "250/250 [==============================] - 21s 82ms/step - loss: 0.5025 - accuracy: 0.7560 - val_loss: 0.4948 - val_accuracy: 0.7660\n",
      "Epoch 6/25\n",
      "250/250 [==============================] - 20s 80ms/step - loss: 0.4803 - accuracy: 0.7657 - val_loss: 0.4984 - val_accuracy: 0.7600\n",
      "Epoch 7/25\n",
      "250/250 [==============================] - 21s 82ms/step - loss: 0.4616 - accuracy: 0.7844 - val_loss: 0.5175 - val_accuracy: 0.7605\n",
      "Epoch 8/25\n",
      "250/250 [==============================] - 24s 95ms/step - loss: 0.4518 - accuracy: 0.7816 - val_loss: 0.4938 - val_accuracy: 0.7675 - los\n",
      "Epoch 9/25\n",
      "250/250 [==============================] - 19s 78ms/step - loss: 0.4435 - accuracy: 0.7904 - val_loss: 0.5009 - val_accuracy: 0.7655\n",
      "Epoch 10/25\n",
      "250/250 [==============================] - 19s 77ms/step - loss: 0.4262 - accuracy: 0.8015 - val_loss: 0.4617 - val_accuracy: 0.7765\n",
      "Epoch 11/25\n",
      "250/250 [==============================] - 20s 78ms/step - loss: 0.4159 - accuracy: 0.8052 - val_loss: 0.4604 - val_accuracy: 0.7930\n",
      "Epoch 12/25\n",
      "250/250 [==============================] - 19s 77ms/step - loss: 0.4013 - accuracy: 0.8170 - val_loss: 0.4728 - val_accuracy: 0.7750\n",
      "Epoch 13/25\n",
      "250/250 [==============================] - 19s 76ms/step - loss: 0.3943 - accuracy: 0.8201 - val_loss: 0.4484 - val_accuracy: 0.7940\n",
      "Epoch 14/25\n",
      "250/250 [==============================] - 21s 82ms/step - loss: 0.3786 - accuracy: 0.8256 - val_loss: 0.4835 - val_accuracy: 0.7915\n",
      "Epoch 15/25\n",
      "250/250 [==============================] - 20s 79ms/step - loss: 0.3650 - accuracy: 0.8351 - val_loss: 0.4902 - val_accuracy: 0.7815\n",
      "Epoch 16/25\n",
      "250/250 [==============================] - 20s 78ms/step - loss: 0.3540 - accuracy: 0.8430 - val_loss: 0.5201 - val_accuracy: 0.7715\n"
     ]
    }
   ],
   "source": [
    "history=cnn.fit(x=training_set,validation_data=test_set,epochs=25,callbacks=[history_logger, earlystop])"
   ]
  },
  {
   "cell_type": "markdown",
   "metadata": {},
   "source": [
    "## Making single prediction"
   ]
  },
  {
   "cell_type": "code",
   "execution_count": 49,
   "metadata": {},
   "outputs": [],
   "source": [
    "import numpy as np\n",
    "from tensorflow.keras.preprocessing import image"
   ]
  },
  {
   "cell_type": "code",
   "execution_count": 55,
   "metadata": {},
   "outputs": [
    {
     "name": "stdout",
     "output_type": "stream",
     "text": [
      "{'cats': 0, 'dogs': 1}\n",
      "[[1.]]\n",
      "dog\n"
     ]
    }
   ],
   "source": [
    "test_image=image.load_img(\"dataset\\single_prediction\\cat_or_dog_1.jpg\",target_size=(64,64))\n",
    "test_image=image.img_to_array(test_image)\n",
    "test_image=np.expand_dims(test_image,axis=0)\n",
    "result=cnn.predict(test_image)\n",
    "print(training_set.class_indices)\n",
    "print(result)\n",
    "if(result[0][0]==1):\n",
    "    print(\"dog\")\n",
    "else:\n",
    "    print(\"cat\")\n"
   ]
  },
  {
   "cell_type": "markdown",
   "metadata": {},
   "source": [
    "## Saving model"
   ]
  },
  {
   "cell_type": "code",
   "execution_count": 51,
   "metadata": {},
   "outputs": [],
   "source": [
    "cnn.save(\"model.h5\")"
   ]
  },
  {
   "cell_type": "markdown",
   "metadata": {},
   "source": [
    "## Plotting Accuracy and validation"
   ]
  },
  {
   "cell_type": "code",
   "execution_count": 52,
   "metadata": {},
   "outputs": [
    {
     "data": {
      "image/png": "[encoded data removed]",
      "text/plain": [
       "<Figure size 432x288 with 1 Axes>"
      ]
     },
     "metadata": {
      "needs_background": "light"
     },
     "output_type": "display_data"
    }
   ],
   "source": [
    "import matplotlib.pyplot as plt\n",
    "plt.plot([i*100 for i in history.history['accuracy']])\n",
    "plt.plot([i*100 for i in history.history['val_accuracy']])\n",
    "plt.legend(['accuracy','val_accuracy'],loc='lower right')\n",
    "plt.xlabel('Epochs')\n",
    "plt.ylabel('Accuracy (in%)')\n",
    "plt.show()"
   ]
  },
  {
   "cell_type": "code",
   "execution_count": 53,
   "metadata": {},
   "outputs": [
    {
     "data": {
      "image/png": "[encoded data removed]",
      "text/plain": [
       "<Figure size 432x288 with 1 Axes>"
      ]
     },
     "metadata": {
      "needs_background": "light"
     },
     "output_type": "display_data"
    }
   ],
   "source": [
    "plt.plot(history.history['loss'])\n",
    "plt.plot(history.history['val_loss'])\n",
    "plt.legend(['loss','val_loss'],loc='upper right')\n",
    "plt.xlabel('Epochs')\n",
    "plt.ylabel('Loss')\n",
    "plt.show()"
   ]
  },
  {
   "cell_type": "code",
   "execution_count": null,
   "metadata": {},
   "outputs": [],
   "source": []
  }
 ],
 "metadata": {
  "kernelspec": {
   "display_name": "Python 3 (ipykernel)",
   "language": "python",
   "name": "python3"
  },
  "language_info": {
   "codemirror_mode": {
    "name": "ipython",
    "version": 3
   },
   "file_extension": ".py",
   "mimetype": "text/x-python",
   "name": "python",
   "nbconvert_exporter": "python",
   "pygments_lexer": "ipython3",
   "version": "3.9.4"
  }
 },
 "nbformat": 4,
 "nbformat_minor": 4
}
